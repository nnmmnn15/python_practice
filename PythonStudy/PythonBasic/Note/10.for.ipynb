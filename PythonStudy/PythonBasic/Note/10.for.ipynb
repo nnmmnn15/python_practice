{
 "cells": [
  {
   "cell_type": "code",
   "execution_count": 2,
   "metadata": {},
   "outputs": [
    {
     "data": {
      "text/plain": [
       "[1, 2, 3, 4, 5, 6, 7, 8, 9, 10]"
      ]
     },
     "execution_count": 2,
     "metadata": {},
     "output_type": "execute_result"
    }
   ],
   "source": [
    "# range함수\n",
    "list(range(1, 11))"
   ]
  },
  {
   "cell_type": "code",
   "execution_count": 3,
   "metadata": {},
   "outputs": [
    {
     "data": {
      "text/plain": [
       "[10, 8, 6, 4, 2]"
      ]
     },
     "execution_count": 3,
     "metadata": {},
     "output_type": "execute_result"
    }
   ],
   "source": [
    "list(range(10,0,-2))"
   ]
  },
  {
   "cell_type": "code",
   "execution_count": 5,
   "metadata": {},
   "outputs": [
    {
     "name": "stdout",
     "output_type": "stream",
     "text": [
      "0\n",
      "1\n",
      "2\n",
      "3\n",
      "4\n"
     ]
    }
   ],
   "source": [
    "for i in range(5):\n",
    "    print(i)"
   ]
  },
  {
   "cell_type": "code",
   "execution_count": 18,
   "metadata": {},
   "outputs": [
    {
     "name": "stdout",
     "output_type": "stream",
     "text": [
      " 1 : 1.00000000\n",
      " 2 : 1.41421356\n",
      " 3 : 1.73205081\n",
      " 4 : 2.00000000\n",
      " 5 : 2.23606798\n",
      " 6 : 2.44948974\n",
      " 7 : 2.64575131\n",
      " 8 : 2.82842712\n",
      " 9 : 3.00000000\n",
      "10 : 3.16227766\n",
      " 1 : 1.00000000\n",
      " 2 : 1.41421356\n",
      " 3 : 1.73205081\n",
      " 4 : 2.00000000\n",
      " 5 : 2.23606798\n",
      " 6 : 2.44948974\n",
      " 7 : 2.64575131\n",
      " 8 : 2.82842712\n",
      " 9 : 3.00000000\n",
      "10 : 3.16227766\n"
     ]
    }
   ],
   "source": [
    "# 1에서 10까지의 제곱근을 출력하기\n",
    "import math\n",
    "\n",
    "for i in range(1, 11):\n",
    "    print(f\"{i:>2} : {math.sqrt(i):.8f}\")\n",
    "\n",
    "for i in range(1, 11):\n",
    "    print(\"%2d : %.8f\"%(i,math.sqrt(i)))"
   ]
  },
  {
   "cell_type": "code",
   "execution_count": 21,
   "metadata": {},
   "outputs": [
    {
     "name": "stdout",
     "output_type": "stream",
     "text": [
      "9 X 1 =  9\n",
      "9 X 2 = 18\n",
      "9 X 3 = 27\n",
      "9 X 4 = 36\n",
      "9 X 5 = 45\n",
      "9 X 6 = 54\n",
      "9 X 7 = 63\n",
      "9 X 8 = 72\n",
      "9 X 9 = 81\n"
     ]
    }
   ],
   "source": [
    "# 구구단\n",
    "dan = 9\n",
    "for i in range(1,10):\n",
    "    print(dan,\"X\", i, '=', '%2d'%(i*dan))"
   ]
  },
  {
   "cell_type": "code",
   "execution_count": 24,
   "metadata": {},
   "outputs": [
    {
     "name": "stdout",
     "output_type": "stream",
     "text": [
      "aaaa\n",
      "bbbb\n"
     ]
    }
   ],
   "source": [
    "print('aaaa', end='\\n')\n",
    "print('bbbb')"
   ]
  },
  {
   "cell_type": "code",
   "execution_count": 28,
   "metadata": {},
   "outputs": [
    {
     "name": "stdout",
     "output_type": "stream",
     "text": [
      " 2  4  6  8 10 12 14 16 18 \n",
      " 3  6  9 12 15 18 21 24 27 \n",
      " 4  8 12 16 20 24 28 32 36 \n",
      " 5 10 15 20 25 30 35 40 45 \n",
      " 6 12 18 24 30 36 42 48 54 \n",
      " 7 14 21 28 35 42 49 56 63 \n",
      " 8 16 24 32 40 48 56 64 72 \n",
      " 9 18 27 36 45 54 63 72 81 \n",
      "\n",
      " 2  4  6  8 10 12 14 16 18 \n",
      " 3  6  9 12 15 18 21 24 27 \n",
      " 4  8 12 16 20 24 28 32 36 \n",
      " 5 10 15 20 25 30 35 40 45 \n",
      " 6 12 18 24 30 36 42 48 54 \n",
      " 7 14 21 28 35 42 49 56 63 \n",
      " 8 16 24 32 40 48 56 64 72 \n",
      " 9 18 27 36 45 54 63 72 81 \n"
     ]
    }
   ],
   "source": [
    "# 구구단 결과만 출력하기\n",
    "for dan in range(2,10):\n",
    "    for i in range(1,10):\n",
    "        print('%2d'%(dan*i), end=' ')\n",
    "    print()\n",
    "\n",
    "print()\n",
    "\n",
    "# 구구단 결과만 출력하기\n",
    "for dan in range(2,10):\n",
    "    for i in range(1,10):\n",
    "        print(f\"{dan*i:>2}\", end=' ')\n",
    "    print()\n"
   ]
  },
  {
   "cell_type": "markdown",
   "metadata": {},
   "source": [
    "### for문에 Tuple사용하기"
   ]
  },
  {
   "cell_type": "code",
   "execution_count": 47,
   "metadata": {},
   "outputs": [
    {
     "name": "stdout",
     "output_type": "stream",
     "text": [
      "1 + 2 = 3\n",
      "3 + 4 = 7\n",
      "5 + 6 = 11\n"
     ]
    }
   ],
   "source": [
    "data = [(1,2), (3,4), (5,6)]\n",
    "\n",
    "for first, last in data:\n",
    "    print(first, \"+\", last, '=', first + last)"
   ]
  },
  {
   "cell_type": "code",
   "execution_count": 50,
   "metadata": {},
   "outputs": [
    {
     "name": "stdout",
     "output_type": "stream",
     "text": [
      "21\n"
     ]
    },
    {
     "data": {
      "text/plain": [
       "21"
      ]
     },
     "execution_count": 50,
     "metadata": {},
     "output_type": "execute_result"
    }
   ],
   "source": [
    "# 위의 data의 전체 합계 구하기\n",
    "sumData = 0\n",
    "for first, last in data:\n",
    "    sumData += first + last\n",
    "print(sumData)\n",
    "\n",
    "data_list = [first + last for first,last in data]\n",
    "sum(data_list)"
   ]
  },
  {
   "cell_type": "markdown",
   "metadata": {},
   "source": [
    "총 5명의 학생이 시험을 보았는데 시험 점수가 60점을 넘으면 합격이고 아니면 불합격이다."
   ]
  },
  {
   "cell_type": "code",
   "execution_count": 59,
   "metadata": {},
   "outputs": [
    {
     "name": "stdout",
     "output_type": "stream",
     "text": [
      "1의 학생은 점수가 90이므로 합격 입니다.\n",
      "2의 학생은 점수가 25이어서 불합격 입니다.\n",
      "3의 학생은 점수가 67이므로 합격 입니다.\n",
      "4의 학생은 점수가 45이어서 불합격 입니다.\n",
      "5의 학생은 점수가 80이므로 합격 입니다.\n",
      "\n",
      "1의 학생은 점수기 90 이므로 합격 입니다.\n",
      "2의 학생은 점수기 25 이어서 불합격 입니다.\n",
      "3의 학생은 점수기 67 이므로 합격 입니다.\n",
      "4의 학생은 점수기 45 이어서 불합격 입니다.\n",
      "5의 학생은 점수기 80 이므로 합격 입니다.\n"
     ]
    }
   ],
   "source": [
    "# 학생 번호와 점수를 같이 보여주면서 합격여부 출력하기\n",
    "scores = [90, 25, 67, 45, 80]\n",
    "\n",
    "for student in range(0, len(scores)):\n",
    "    print(f\"{student+1}의 학생은 점수가 {scores[student]}{\"이므로 합격 입니다.\" if scores[student] >= 60 else \"이어서 불합격 입니다.\"}\")\n",
    "\n",
    "print()\n",
    "number = 1\n",
    "for score in scores:\n",
    "    if score <60:\n",
    "        print(f\"{number}의 학생은 점수기 {score} 이어서 불합격 입니다.\")\n",
    "    else:\n",
    "        print(f\"{number}의 학생은 점수기 {score} 이므로 합격 입니다.\")\n",
    "    number += 1"
   ]
  },
  {
   "cell_type": "code",
   "execution_count": 63,
   "metadata": {},
   "outputs": [
    {
     "name": "stdout",
     "output_type": "stream",
     "text": [
      "1의 학생은 점수기 90 이므로 합격 입니다.\n",
      "3의 학생은 점수기 67 이므로 합격 입니다.\n",
      "5의 학생은 점수기 80 이므로 합격 입니다.\n",
      "\n",
      "1의 학생은 점수기 90 이므로 합격 입니다.\n",
      "3의 학생은 점수기 67 이므로 합격 입니다.\n",
      "5의 학생은 점수기 80 이므로 합격 입니다.\n"
     ]
    }
   ],
   "source": [
    "# 학생 번호와 점수를 같이 보여주면서 합격한 학생만 보여주기\n",
    "scores = [90, 25, 67, 45, 80]\n",
    "\n",
    "number = 1\n",
    "for score in scores:\n",
    "    if score >= 60:\n",
    "        print(f\"{number}의 학생은 점수기 {score} 이므로 합격 입니다.\")\n",
    "    number += 1\n",
    "\n",
    "print()\n",
    "\n",
    "number = 0\n",
    "for score in scores:\n",
    "    number += 1\n",
    "    if score <60:\n",
    "        continue\n",
    "    else:\n",
    "        print(f\"{number}의 학생은 점수기 {score} 이므로 합격 입니다.\")\n"
   ]
  },
  {
   "cell_type": "code",
   "execution_count": 71,
   "metadata": {},
   "outputs": [
    {
     "data": {
      "text/plain": [
       "79.0"
      ]
     },
     "execution_count": 71,
     "metadata": {},
     "output_type": "execute_result"
    }
   ],
   "source": [
    "# 합격한 학생들의 점수를 List로 생성하여 평균 구하기\n",
    "import numpy as np\n",
    "\n",
    "scores = [90, 25, 67, 45, 80]\n",
    "scores = [score for score in scores if score >= 60]\n",
    "\n",
    "np.mean(scores)"
   ]
  },
  {
   "cell_type": "markdown",
   "metadata": {},
   "source": [
    "### 문장과 단어 추출"
   ]
  },
  {
   "cell_type": "code",
   "execution_count": 72,
   "metadata": {},
   "outputs": [],
   "source": [
    "stringText = \"\"\"나는 홍길동 입니다.\n",
    "주소는 서울시 입니다.\n",
    "나이는 35세 입니다.\"\"\""
   ]
  },
  {
   "cell_type": "code",
   "execution_count": 73,
   "metadata": {},
   "outputs": [],
   "source": [
    "sents = [] # 문장 저장\n",
    "words = [] # 단어 저장"
   ]
  },
  {
   "cell_type": "code",
   "execution_count": 75,
   "metadata": {},
   "outputs": [
    {
     "data": {
      "text/plain": [
       "['나는 홍길동 입니다.', '주소는 서울시 입니다.', '나이는 35세 입니다.']"
      ]
     },
     "execution_count": 75,
     "metadata": {},
     "output_type": "execute_result"
    }
   ],
   "source": [
    "stringText.split('\\n')"
   ]
  },
  {
   "cell_type": "code",
   "execution_count": 76,
   "metadata": {},
   "outputs": [],
   "source": [
    "# 문단 -> 문장\n",
    "for sen in stringText.split('\\n'):\n",
    "    sents.append(sen)\n",
    "    # 문장 -> 단어\n",
    "    for word in sen.split():\n",
    "        words.append(word)"
   ]
  },
  {
   "cell_type": "code",
   "execution_count": 77,
   "metadata": {},
   "outputs": [
    {
     "name": "stdout",
     "output_type": "stream",
     "text": [
      "문장 :  ['나는 홍길동 입니다.', '주소는 서울시 입니다.', '나이는 35세 입니다.']\n",
      "문장 수 :  3\n",
      "단어 :  ['나는', '홍길동', '입니다.', '주소는', '서울시', '입니다.', '나이는', '35세', '입니다.']\n",
      "단어 수 :  9\n"
     ]
    }
   ],
   "source": [
    "print(\"문장 : \", sents)\n",
    "print(\"문장 수 : \", len(sents))\n",
    "print(\"단어 : \", words)\n",
    "print(\"단어 수 : \", len(words))"
   ]
  },
  {
   "cell_type": "code",
   "execution_count": 80,
   "metadata": {},
   "outputs": [
    {
     "name": "stdout",
     "output_type": "stream",
     "text": [
      "orange를 찾았습니다.\n"
     ]
    }
   ],
   "source": [
    "fruits = ['apple', 'banana', 'cherry', 'orange']\n",
    "\n",
    "for fruit in fruits:\n",
    "    if fruit == 'orange':\n",
    "        print('orange를 찾았습니다.')\n",
    "        break\n",
    "else:\n",
    "    print('orange가 없습니다.')"
   ]
  },
  {
   "cell_type": "markdown",
   "metadata": {},
   "source": [
    "---\n",
    "# List Comprehension"
   ]
  },
  {
   "cell_type": "code",
   "execution_count": 81,
   "metadata": {},
   "outputs": [
    {
     "data": {
      "text/plain": [
       "[5, 10, 15, 20]"
      ]
     },
     "execution_count": 81,
     "metadata": {},
     "output_type": "execute_result"
    }
   ],
   "source": [
    "var01 = [1,2,3,4]\n",
    "var02 = [i* 5 for i in var01]\n",
    "var02"
   ]
  },
  {
   "cell_type": "code",
   "execution_count": 82,
   "metadata": {},
   "outputs": [
    {
     "data": {
      "text/plain": [
       "[10, 20]"
      ]
     },
     "execution_count": 82,
     "metadata": {},
     "output_type": "execute_result"
    }
   ],
   "source": [
    "var01 = [1,2,3,4]\n",
    "var02 = [i * 5 for i in var01 if i % 2 == 0]\n",
    "var02"
   ]
  },
  {
   "cell_type": "code",
   "execution_count": 87,
   "metadata": {},
   "outputs": [
    {
     "name": "stdout",
     "output_type": "stream",
     "text": [
      "[2, 4, 6, 8, 10, 12, 14, 16, 18, 3, 6, 9, 12, 15, 18, 21, 24, 27, 4, 8, 12, 16, 20, 24, 28, 32, 36, 5, 10, 15, 20, 25, 30, 35, 40, 45, 6, 12, 18, 24, 30, 36, 42, 48, 54, 7, 14, 21, 28, 35, 42, 49, 56, 63, 8, 16, 24, 32, 40, 48, 56, 64, 72, 9, 18, 27, 36, 45, 54, 63, 72, 81]\n"
     ]
    }
   ],
   "source": [
    "# 구구단 결과만 리스트로 만들기 (2단~9단)\n",
    "gugudan = [dan * i for dan in range(2,10) for i in range(1,10)]\n",
    "print(gugudan)"
   ]
  },
  {
   "cell_type": "code",
   "execution_count": 92,
   "metadata": {},
   "outputs": [
    {
     "name": "stdout",
     "output_type": "stream",
     "text": [
      "[[2, 4, 6, 8, 10, 12, 14, 16, 18], [3, 6, 9, 12, 15, 18, 21, 24, 27], [4, 8, 12, 16, 20, 24, 28, 32, 36], [5, 10, 15, 20, 25, 30, 35, 40, 45], [6, 12, 18, 24, 30, 36, 42, 48, 54], [7, 14, 21, 28, 35, 42, 49, 56, 63], [8, 16, 24, 32, 40, 48, 56, 64, 72], [9, 18, 27, 36, 45, 54, 63, 72, 81]]\n",
      "2단: [2, 4, 6, 8, 10, 12, 14, 16, 18]\n",
      "3단: [3, 6, 9, 12, 15, 18, 21, 24, 27]\n",
      "4단: [4, 8, 12, 16, 20, 24, 28, 32, 36]\n",
      "5단: [5, 10, 15, 20, 25, 30, 35, 40, 45]\n",
      "6단: [6, 12, 18, 24, 30, 36, 42, 48, 54]\n",
      "7단: [7, 14, 21, 28, 35, 42, 49, 56, 63]\n",
      "8단: [8, 16, 24, 32, 40, 48, 56, 64, 72]\n",
      "9단: [9, 18, 27, 36, 45, 54, 63, 72, 81]\n",
      "<enumerate object at 0x10e890b30>\n"
     ]
    }
   ],
   "source": [
    "# 2단부터 9단까지의 구구단 결과를 List Comprehension으로 생성\n",
    "multiplication_table = [[i * j for j in range(1, 10)] for i in range(2, 10)]\n",
    "\n",
    "print(multiplication_table)\n",
    "\n",
    "# 결과 출력\n",
    "for i, table in enumerate(multiplication_table, start=2):\n",
    "    print(f\"{i}단: {table}\")\n",
    "\n",
    "print(enumerate(multiplication_table, start=2))"
   ]
  },
  {
   "cell_type": "code",
   "execution_count": null,
   "metadata": {},
   "outputs": [],
   "source": []
  }
 ],
 "metadata": {
  "kernelspec": {
   "display_name": "base",
   "language": "python",
   "name": "python3"
  },
  "language_info": {
   "codemirror_mode": {
    "name": "ipython",
    "version": 3
   },
   "file_extension": ".py",
   "mimetype": "text/x-python",
   "name": "python",
   "nbconvert_exporter": "python",
   "pygments_lexer": "ipython3",
   "version": "3.12.4"
  }
 },
 "nbformat": 4,
 "nbformat_minor": 2
}
