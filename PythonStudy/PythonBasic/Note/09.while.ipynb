{
 "cells": [
  {
   "cell_type": "markdown",
   "metadata": {},
   "source": [
    "### while 문"
   ]
  },
  {
   "cell_type": "code",
   "execution_count": 1,
   "metadata": {},
   "outputs": [
    {
     "name": "stdout",
     "output_type": "stream",
     "text": [
      "나무를 1번 찍었습니다.\n",
      "나무를 2번 찍었습니다.\n",
      "나무를 3번 찍었습니다.\n",
      "나무를 4번 찍었습니다.\n",
      "나무를 5번 찍었습니다.\n",
      "나무를 6번 찍었습니다.\n",
      "나무를 7번 찍었습니다.\n",
      "나무를 8번 찍었습니다.\n",
      "나무를 9번 찍었습니다.\n",
      "나무를 10번 찍었습니다.\n",
      "나무 넘어 갑니다.\n"
     ]
    }
   ],
   "source": [
    "treeHit = 0\n",
    "\n",
    "while treeHit < 10:\n",
    "    treeHit += 1\n",
    "    print(f\"나무를 {treeHit}번 찍었습니다.\")\n",
    "    if treeHit == 10:\n",
    "        print('나무 넘어 갑니다.')"
   ]
  },
  {
   "cell_type": "code",
   "execution_count": 3,
   "metadata": {},
   "outputs": [
    {
     "name": "stdout",
     "output_type": "stream",
     "text": [
      "나무를 1번 찍었습니다.\n",
      "나무를 2번 찍었습니다.\n",
      "나무를 3번 찍었습니다.\n",
      "나무를 4번 찍었습니다.\n",
      "나무를 5번 찍었습니다.\n",
      "나무를 6번 찍었습니다.\n",
      "나무를 7번 찍었습니다.\n",
      "나무를 8번 찍었습니다.\n",
      "나무를 9번 찍었습니다.\n",
      "나무를 10번 찍었습니다.\n",
      "나무 넘어 갑니다.\n"
     ]
    }
   ],
   "source": [
    "treeHit = 0\n",
    "\n",
    "while treeHit < 10:\n",
    "    treeHit += 1\n",
    "    print(f\"나무를 {treeHit}번 찍었습니다.\")\n",
    "else: # while 문이 종료된 후 실행 break가 있으면 실행 X\n",
    "    print('나무 넘어 갑니다.')"
   ]
  },
  {
   "cell_type": "code",
   "execution_count": 5,
   "metadata": {},
   "outputs": [
    {
     "name": "stdout",
     "output_type": "stream",
     "text": [
      "나무를 1번 찍었습니다.\n",
      "나무를 2번 찍었습니다.\n",
      "나무를 3번 찍었습니다.\n",
      "나무를 4번 찍었습니다.\n",
      "나무를 5번 찍었습니다.\n",
      "나무를 6번 찍었습니다.\n",
      "나무를 7번 찍었습니다.\n",
      "나무를 8번 찍었습니다.\n",
      "나무를 9번 찍었습니다.\n",
      "나무를 10번 찍었습니다.\n"
     ]
    }
   ],
   "source": [
    "treeHit = 0\n",
    "\n",
    "while treeHit < 10:\n",
    "    treeHit += 1\n",
    "    print(f\"나무를 {treeHit}번 찍었습니다.\")\n",
    "    if treeHit == 10:\n",
    "        break\n",
    "else: # while 문이 종료된 후 실행 break가 있으면 실행 X\n",
    "    print('나무 넘어 갑니다.')"
   ]
  },
  {
   "cell_type": "markdown",
   "metadata": {},
   "source": [
    "커피 자판기    \n",
    "커피를 5잔만 판매할 수 있습니다.    \n",
    "커피값은 300원    \n",
    "1) 300원 : 커피 <- 커피 - 1, 커피주를 주자\n",
    "2) 300원 이상 : 커피 <- 커피 - 1, 잔돈을 주고 커피를 주자\n",
    "3) 300원 미만 : 돈을 돌려주고 커피를 팔지 않는다.\n",
    "4) 커피가 0가 되면 커피가 다 떨어졌습니다 라는 메세지를 주자"
   ]
  },
  {
   "cell_type": "code",
   "execution_count": 7,
   "metadata": {},
   "outputs": [
    {
     "name": "stdout",
     "output_type": "stream",
     "text": [
      "커피를 준다\n",
      "커피를 준다\n",
      "커피를 준다\n",
      "커피를 준다\n",
      "잔돈은 1입니다, 커피를 준다\n",
      "커피가 다 떨어졌습니다. 판매를 중지합니다.\n"
     ]
    }
   ],
   "source": [
    "coffee = 5\n",
    "\n",
    "while True:\n",
    "    money = int(input('돈을 넣어 주세요'))\n",
    "    if money == 300:\n",
    "        coffee -= 1\n",
    "        print('커피를 준다')\n",
    "    elif money > 300:\n",
    "        coffee -= 1\n",
    "        print(f'잔돈은 {money - 300}입니다, 커피를 준다')\n",
    "    else:\n",
    "        print(f'잔돈은 {money}입니다.')\n",
    "\n",
    "    if coffee == 0:\n",
    "        print('커피가 다 떨어졌습니다. 판매를 중지합니다.')\n",
    "        break"
   ]
  },
  {
   "cell_type": "code",
   "execution_count": 8,
   "metadata": {},
   "outputs": [
    {
     "name": "stdout",
     "output_type": "stream",
     "text": [
      "잔돈은 100입니다.\n",
      "커피를 준다\n",
      "커피를 준다\n",
      "잔돈은 201입니다.\n",
      "잔돈은 200입니다, 커피를 준다\n",
      "잔돈은 100입니다, 커피를 준다\n",
      "커피를 준다\n",
      "커피가 다 떨어졌습니다. 판매를 중지합니다.\n"
     ]
    }
   ],
   "source": [
    "coffee = 5\n",
    "\n",
    "while coffee > 0:\n",
    "    money = int(input('돈을 넣어 주세요'))\n",
    "    if money == 300:\n",
    "        coffee -= 1\n",
    "        print('커피를 준다')\n",
    "    elif money > 300:\n",
    "        coffee -= 1\n",
    "        print(f'잔돈은 {money - 300}입니다, 커피를 준다')\n",
    "    else:\n",
    "        print(f'잔돈은 {money}입니다.')\n",
    "else:\n",
    "    print('커피가 다 떨어졌습니다. 판매를 중지합니다.')"
   ]
  },
  {
   "cell_type": "code",
   "execution_count": 9,
   "metadata": {},
   "outputs": [
    {
     "name": "stdout",
     "output_type": "stream",
     "text": [
      "잔돈은 300입니다.\n",
      "잔돈은 200입니다.\n",
      "잔돈은 400입니다.\n"
     ]
    },
    {
     "ename": "ValueError",
     "evalue": "invalid literal for int() with base 10: ''",
     "output_type": "error",
     "traceback": [
      "\u001b[0;31m---------------------------------------------------------------------------\u001b[0m",
      "\u001b[0;31mValueError\u001b[0m                                Traceback (most recent call last)",
      "Cell \u001b[0;32mIn[9], line 4\u001b[0m\n\u001b[1;32m      1\u001b[0m coffee \u001b[38;5;241m=\u001b[39m \u001b[38;5;241m5\u001b[39m\n\u001b[1;32m      3\u001b[0m \u001b[38;5;28;01mwhile\u001b[39;00m coffee \u001b[38;5;241m>\u001b[39m \u001b[38;5;241m0\u001b[39m:\n\u001b[0;32m----> 4\u001b[0m     money \u001b[38;5;241m=\u001b[39m \u001b[38;5;28mint\u001b[39m(\u001b[38;5;28minput\u001b[39m(\u001b[38;5;124m'\u001b[39m\u001b[38;5;124m돈을 넣어 주세요\u001b[39m\u001b[38;5;124m'\u001b[39m))\n\u001b[1;32m      6\u001b[0m     \u001b[38;5;28;01mmatch\u001b[39;00m coffee:\n\u001b[1;32m      7\u001b[0m         \u001b[38;5;28;01mcase\u001b[39;00m coffee \u001b[38;5;28;01mif\u001b[39;00m coffee \u001b[38;5;241m==\u001b[39m \u001b[38;5;241m300\u001b[39m:\n\u001b[1;32m      8\u001b[0m             coffee \u001b[38;5;241m-\u001b[39m\u001b[38;5;241m=\u001b[39m \u001b[38;5;241m1\u001b[39m\n\u001b[0;32m   (...)\u001b[0m\n\u001b[1;32m     13\u001b[0m         \u001b[38;5;28;01mcase\u001b[39;00m\u001b[38;5;250m \u001b[39m\u001b[38;5;28;01m_\u001b[39;00m:\n\u001b[1;32m     14\u001b[0m             \u001b[38;5;28mprint\u001b[39m(\u001b[38;5;124mf\u001b[39m\u001b[38;5;124m'\u001b[39m\u001b[38;5;124m잔돈은 \u001b[39m\u001b[38;5;132;01m{\u001b[39;00mmoney\u001b[38;5;132;01m}\u001b[39;00m\u001b[38;5;124m입니다.\u001b[39m\u001b[38;5;124m'\u001b[39m)\n\u001b[1;32m     15\u001b[0m \u001b[38;5;28;01melse\u001b[39;00m:\n",
      "\u001b[0;31mValueError\u001b[0m: invalid literal for int() with base 10: ''"
     ]
    }
   ],
   "source": [
    "coffee = 5\n",
    "\n",
    "while coffee > 0:\n",
    "    money = int(input('돈을 넣어 주세요'))\n",
    "    \n",
    "    match coffee:\n",
    "        case coffee if coffee == 300:\n",
    "            coffee -= 1\n",
    "            print('커피를 준다')\n",
    "        case coffee if coffee > 300:\n",
    "            coffee -= 1\n",
    "            print(f'잔돈은 {money - 300}입니다, 커피를 준다')\n",
    "        case _:\n",
    "            print(f'잔돈은 {money}입니다.')\n",
    "else:\n",
    "    print('커피가 다 떨어졌습니다. 판매를 중지합니다.')"
   ]
  },
  {
   "cell_type": "code",
   "execution_count": 10,
   "metadata": {},
   "outputs": [
    {
     "name": "stdout",
     "output_type": "stream",
     "text": [
      "노력\n",
      "우수\n",
      "우수\n",
      "노력\n"
     ]
    }
   ],
   "source": [
    "# 점수가 80점 이상이면 우수, 나머지는 노력으로 출력\n",
    "scores = [78, 85, 95, 65]\n",
    "\n",
    "count = 0\n",
    "while count < len(scores):\n",
    "    if scores[count] >= 80:\n",
    "        print('우수')\n",
    "    else:\n",
    "        print('노력')\n",
    "    count += 1"
   ]
  },
  {
   "cell_type": "code",
   "execution_count": 16,
   "metadata": {},
   "outputs": [
    {
     "name": "stdout",
     "output_type": "stream",
     "text": [
      "노력\n",
      "우수\n",
      "우수\n",
      "노력\n"
     ]
    },
    {
     "data": {
      "text/plain": [
       "[]"
      ]
     },
     "execution_count": 16,
     "metadata": {},
     "output_type": "execute_result"
    }
   ],
   "source": [
    "# 점수가 80점 이상이면 우수, 나머지는 노력으로 출력\n",
    "scores = [78, 85, 95, 65]\n",
    "\n",
    "while scores:\n",
    "    # print(scores.pop(0))\n",
    "    print('우수' if scores.pop(0) >= 80 else '노력')\n",
    "\n",
    "scores"
   ]
  },
  {
   "cell_type": "code",
   "execution_count": 19,
   "metadata": {},
   "outputs": [
    {
     "name": "stdout",
     "output_type": "stream",
     "text": [
      "80.75\n",
      "80.75\n"
     ]
    }
   ],
   "source": [
    "# 평균 구하기\n",
    "scores = [78, 85, 95, 65]\n",
    "print(sum(scores) / len(scores))\n",
    "\n",
    "total = 0\n",
    "list_length = len(scores)\n",
    "\n",
    "while scores:\n",
    "    total += scores.pop()\n",
    "\n",
    "print(total/list_length)"
   ]
  },
  {
   "cell_type": "code",
   "execution_count": 20,
   "metadata": {},
   "outputs": [],
   "source": [
    "import numpy as np"
   ]
  },
  {
   "cell_type": "code",
   "execution_count": 23,
   "metadata": {},
   "outputs": [
    {
     "data": {
      "text/plain": [
       "10.917302780449024"
      ]
     },
     "execution_count": 23,
     "metadata": {},
     "output_type": "execute_result"
    }
   ],
   "source": [
    "# 평균 구하기\n",
    "scores = [78, 85, 95, 65]\n",
    "np.mean(scores)\n",
    "np.std(scores)"
   ]
  },
  {
   "cell_type": "code",
   "execution_count": 26,
   "metadata": {},
   "outputs": [
    {
     "name": "stdout",
     "output_type": "stream",
     "text": [
      "80.75\n",
      "10.917302780449024\n"
     ]
    }
   ],
   "source": [
    "# 표준 편차 구하기 (표준편차 : 평균과 각 데이터의 차이의 제곱한 것의 합의 제곱근을 구한 것)\n",
    "import math\n",
    "scores = [78, 85, 95, 65]\n",
    "\n",
    "# 평균 구하기\n",
    "total = 0\n",
    "list_length = len(scores)\n",
    "\n",
    "count = 0\n",
    "while count < len(scores):\n",
    "    total += scores[count]\n",
    "    count += 1\n",
    "\n",
    "avg = total / list_length\n",
    "print(avg)\n",
    "\n",
    "# 각 데이터와 평균의 차이의 제곱의 합의 평균 구하기\n",
    "total = 0\n",
    "count = 0\n",
    "while count < len(scores):\n",
    "    total += (scores[count] - avg) ** 2\n",
    "    count += 1\n",
    "\n",
    "avg = total / len(scores)\n",
    "print(math.sqrt(avg))"
   ]
  },
  {
   "cell_type": "code",
   "execution_count": null,
   "metadata": {},
   "outputs": [],
   "source": []
  }
 ],
 "metadata": {
  "kernelspec": {
   "display_name": "base",
   "language": "python",
   "name": "python3"
  },
  "language_info": {
   "codemirror_mode": {
    "name": "ipython",
    "version": 3
   },
   "file_extension": ".py",
   "mimetype": "text/x-python",
   "name": "python",
   "nbconvert_exporter": "python",
   "pygments_lexer": "ipython3",
   "version": "3.12.4"
  }
 },
 "nbformat": 4,
 "nbformat_minor": 2
}
