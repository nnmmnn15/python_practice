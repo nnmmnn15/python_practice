{
 "cells": [
  {
   "cell_type": "code",
   "execution_count": 4,
   "metadata": {},
   "outputs": [
    {
     "name": "stdout",
     "output_type": "stream",
     "text": [
      "점수는 92이고 A학점 입니다.\n"
     ]
    }
   ],
   "source": [
    "# 사용자로 부터 점수를 입력받아 학점 계산하기\n",
    "score = int(input(\"점수를 입력하세요\"))\n",
    "\n",
    "grade = ''\n",
    "if score >= 90:\n",
    "    grade = 'A'\n",
    "elif score >= 80:\n",
    "    grade = 'B'\n",
    "elif score >= 70:\n",
    "    grade = 'C'\n",
    "elif score >= 60:\n",
    "    grade = 'D'\n",
    "else:\n",
    "    grade = 'F'\n",
    "\n",
    "print(f\"점수는 {score}이고 {grade}학점 입니다.\")"
   ]
  },
  {
   "cell_type": "markdown",
   "metadata": {},
   "source": [
    "---\n",
    "## match case\n",
    ": 3.10 도입"
   ]
  },
  {
   "cell_type": "code",
   "execution_count": 7,
   "metadata": {},
   "outputs": [
    {
     "name": "stdout",
     "output_type": "stream",
     "text": [
      "21는 홀수 입니다.\n"
     ]
    }
   ],
   "source": [
    "x = int(input('숫자를 입력하세요'))\n",
    "\n",
    "match x % 2:\n",
    "    case 0:\n",
    "        print(f\"{x}는 짝수 입니다.\")\n",
    "    case 1:\n",
    "        print(f\"{x}는 홀수 입니다.\")"
   ]
  },
  {
   "cell_type": "code",
   "execution_count": 10,
   "metadata": {},
   "outputs": [
    {
     "name": "stdout",
     "output_type": "stream",
     "text": [
      "45는 홀수 입니다.\n"
     ]
    }
   ],
   "source": [
    "x = int(input('숫자를 입력하세요'))\n",
    "\n",
    "match x:\n",
    "    case x if x%2 == 0:\n",
    "        print(f\"{x}는 짝수 입니다.\")\n",
    "    case _: # _ = default\n",
    "        print(f\"{x}는 홀수 입니다.\")"
   ]
  },
  {
   "cell_type": "code",
   "execution_count": 15,
   "metadata": {},
   "outputs": [
    {
     "name": "stdout",
     "output_type": "stream",
     "text": [
      "양수\n"
     ]
    }
   ],
   "source": [
    "x = int(input('숫자를 입력하세요'))\n",
    "\n",
    "match x:\n",
    "    case 0:\n",
    "        print(\"0\")\n",
    "    case 88 | 99:\n",
    "        print(\"88 이거나 99\")\n",
    "    case x if x % 10 == 0:\n",
    "        print(\"10의 배수\")\n",
    "    case x if x > 0:\n",
    "        print(\"양수\")\n",
    "    case x if x < 0:\n",
    "        print(\"음수\")\n",
    "    case _:\n",
    "        print(\"~~~\")\n"
   ]
  },
  {
   "cell_type": "code",
   "execution_count": 19,
   "metadata": {},
   "outputs": [
    {
     "name": "stdout",
     "output_type": "stream",
     "text": [
      "점수는 90이고 A학점 입니다.\n"
     ]
    }
   ],
   "source": [
    "score = int(input(\"점수를 입력하세요\"))\n",
    "\n",
    "grade = ''\n",
    "\n",
    "match score:\n",
    "    case score if score > 100 or score < 0:\n",
    "        grade = \"*\"\n",
    "    case score if score >= 90:\n",
    "        grade = \"A\"\n",
    "    case score if score >= 80:\n",
    "        grade = \"B\"\n",
    "    case score if score >= 70:\n",
    "        grade = \"C\"\n",
    "    case score if score >= 60:\n",
    "        grade = \"D\"\n",
    "    case _:\n",
    "        grade = \"F\"\n",
    "\n",
    "if grade != \"*\":\n",
    "    print(f\"점수는 {score}이고 {grade}학점 입니다.\")\n",
    "else:\n",
    "    print(\"점수를 확인 하세요\")"
   ]
  },
  {
   "cell_type": "markdown",
   "metadata": {},
   "source": [
    "### 삼항 연산자\n",
    "\n",
    "변수 = 참인경우 if(조건문) else 거짓인 경우"
   ]
  },
  {
   "cell_type": "code",
   "execution_count": 20,
   "metadata": {},
   "outputs": [
    {
     "name": "stdout",
     "output_type": "stream",
     "text": [
      "짝수\n"
     ]
    }
   ],
   "source": [
    "num = int(input(\"숫자를 입력하세요\"))\n",
    "\n",
    "result = \"짝수\" if num % 2 == 0 else \"홀수\"\n",
    "print(result)"
   ]
  },
  {
   "cell_type": "code",
   "execution_count": 22,
   "metadata": {},
   "outputs": [
    {
     "name": "stdout",
     "output_type": "stream",
     "text": [
      "6\n"
     ]
    }
   ],
   "source": [
    "# 사용자로 부터 숫자 입력을 받아 입력 받은수가 5보다 크면 숫자의 2배를 구하고 아니면 2만 더한다.\n",
    "num = int(input(\"숫자를 입력하세요\"))\n",
    "\n",
    "result = num * 2 if num > 5 else num + 2\n",
    "\n",
    "print(result)"
   ]
  },
  {
   "cell_type": "code",
   "execution_count": null,
   "metadata": {},
   "outputs": [],
   "source": []
  }
 ],
 "metadata": {
  "kernelspec": {
   "display_name": "base",
   "language": "python",
   "name": "python3"
  },
  "language_info": {
   "codemirror_mode": {
    "name": "ipython",
    "version": 3
   },
   "file_extension": ".py",
   "mimetype": "text/x-python",
   "name": "python",
   "nbconvert_exporter": "python",
   "pygments_lexer": "ipython3",
   "version": "3.12.4"
  }
 },
 "nbformat": 4,
 "nbformat_minor": 2
}
