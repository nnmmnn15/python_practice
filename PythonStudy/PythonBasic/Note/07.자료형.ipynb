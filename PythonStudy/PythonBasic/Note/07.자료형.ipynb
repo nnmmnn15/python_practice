{
 "cells": [
  {
   "cell_type": "markdown",
   "metadata": {},
   "source": [
    "### 자료형의 참과 거짓\n",
    "- 문자열인 경우 \"\"안에 데이터가 없으면 거짓    \n",
    "- 리스트인 경우 []안에 데이터가 없으면 거짓    \n",
    "- 튜플인 경우 ()안에 데이터가 없으면 거짓    \n",
    "- 딕셔너리인 경우 {}안에 데이터가 없으면 거짓\n",
    "- 숫자인 경우 0이면 거짓"
   ]
  },
  {
   "cell_type": "code",
   "execution_count": 1,
   "metadata": {},
   "outputs": [
    {
     "name": "stdout",
     "output_type": "stream",
     "text": [
      "4\n",
      "3\n",
      "2\n",
      "1\n"
     ]
    },
    {
     "data": {
      "text/plain": [
       "[]"
      ]
     },
     "execution_count": 1,
     "metadata": {},
     "output_type": "execute_result"
    }
   ],
   "source": [
    "# 리스트형에서 자료 출력하면서 자료 지우기\n",
    "var = [1,2,3,4]\n",
    "\n",
    "while(var):\n",
    "    print(var.pop())\n",
    "\n",
    "var"
   ]
  },
  {
   "cell_type": "code",
   "execution_count": 5,
   "metadata": {},
   "outputs": [
    {
     "data": {
      "text/plain": [
       "2"
      ]
     },
     "execution_count": 5,
     "metadata": {},
     "output_type": "execute_result"
    }
   ],
   "source": [
    "# 튜플을 사용한 변수 생성\n",
    "var01, var02 = 1, 2\n",
    "var02"
   ]
  },
  {
   "cell_type": "code",
   "execution_count": 6,
   "metadata": {},
   "outputs": [
    {
     "data": {
      "text/plain": [
       "'Lee'"
      ]
     },
     "execution_count": 6,
     "metadata": {},
     "output_type": "execute_result"
    }
   ],
   "source": [
    "var01, var02 = 1, \"Lee\"\n",
    "var02"
   ]
  },
  {
   "cell_type": "code",
   "execution_count": 7,
   "metadata": {},
   "outputs": [
    {
     "data": {
      "text/plain": [
       "'Lee'"
      ]
     },
     "execution_count": 7,
     "metadata": {},
     "output_type": "execute_result"
    }
   ],
   "source": [
    "(var01, var02) = (1, 'Lee')\n",
    "var02"
   ]
  },
  {
   "cell_type": "code",
   "execution_count": 9,
   "metadata": {},
   "outputs": [
    {
     "name": "stdout",
     "output_type": "stream",
     "text": [
      "3 5\n",
      "5 3\n"
     ]
    }
   ],
   "source": [
    "# 변수 값 교환\n",
    "var01 = 3\n",
    "var02 = 5\n",
    "print(var01, var02)\n",
    "\n",
    "var01, var02 = var02, var01\n",
    "print(var01, var02)"
   ]
  },
  {
   "cell_type": "code",
   "execution_count": 11,
   "metadata": {},
   "outputs": [
    {
     "name": "stdout",
     "output_type": "stream",
     "text": [
      "[1, 2, 3]\n",
      "[1, 4, 3]\n"
     ]
    }
   ],
   "source": [
    "var01 = [1,2,3]\n",
    "# var02 = var01.copy()\n",
    "var02 = var01[:]\n",
    "var02[1] = 4\n",
    "print(var01)\n",
    "print(var02)"
   ]
  },
  {
   "cell_type": "code",
   "execution_count": 13,
   "metadata": {},
   "outputs": [
    {
     "name": "stdout",
     "output_type": "stream",
     "text": [
      "[1, 2, 3]\n",
      "[1, 4, 3]\n"
     ]
    }
   ],
   "source": [
    "from copy import copy\n",
    "\n",
    "var01 = [1,2,3]\n",
    "var02 = copy(var01)\n",
    "var02[1] = 4\n",
    "print(var01)\n",
    "print(var02)"
   ]
  },
  {
   "cell_type": "markdown",
   "metadata": {},
   "source": [
    "---\n",
    "### 자료형 변환"
   ]
  },
  {
   "cell_type": "code",
   "execution_count": 14,
   "metadata": {},
   "outputs": [
    {
     "data": {
      "text/plain": [
       "int"
      ]
     },
     "execution_count": 14,
     "metadata": {},
     "output_type": "execute_result"
    }
   ],
   "source": [
    "# 문자열을 정수로 변환\n",
    "\n",
    "str_num = '123'\n",
    "int_num = int(str_num)\n",
    "type(int_num)"
   ]
  },
  {
   "cell_type": "code",
   "execution_count": 15,
   "metadata": {},
   "outputs": [
    {
     "data": {
      "text/plain": [
       "float"
      ]
     },
     "execution_count": 15,
     "metadata": {},
     "output_type": "execute_result"
    }
   ],
   "source": [
    "# 문자열을 실수로 변환\n",
    "str_num = '123.456'\n",
    "float_num = float(str_num)\n",
    "type(float_num)"
   ]
  },
  {
   "cell_type": "code",
   "execution_count": 16,
   "metadata": {},
   "outputs": [
    {
     "data": {
      "text/plain": [
       "str"
      ]
     },
     "execution_count": 16,
     "metadata": {},
     "output_type": "execute_result"
    }
   ],
   "source": [
    "# 정수를 문자열로 변환\n",
    "int_num = 123\n",
    "str_num = str(int_num)\n",
    "type(str_num)"
   ]
  },
  {
   "cell_type": "code",
   "execution_count": 19,
   "metadata": {},
   "outputs": [
    {
     "name": "stdout",
     "output_type": "stream",
     "text": [
      "<class 'int'>\n",
      "123\n"
     ]
    }
   ],
   "source": [
    "# 실수를 정수로 변환\n",
    "float_num = 123.456\n",
    "int_num = int(float_num)\n",
    "print(type(int_num))\n",
    "print(int_num)"
   ]
  },
  {
   "cell_type": "code",
   "execution_count": null,
   "metadata": {},
   "outputs": [],
   "source": []
  }
 ],
 "metadata": {
  "kernelspec": {
   "display_name": "base",
   "language": "python",
   "name": "python3"
  },
  "language_info": {
   "codemirror_mode": {
    "name": "ipython",
    "version": 3
   },
   "file_extension": ".py",
   "mimetype": "text/x-python",
   "name": "python",
   "nbconvert_exporter": "python",
   "pygments_lexer": "ipython3",
   "version": "3.12.4"
  }
 },
 "nbformat": 4,
 "nbformat_minor": 2
}
