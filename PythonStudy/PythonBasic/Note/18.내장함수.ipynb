{
 "cells": [
  {
   "cell_type": "code",
   "execution_count": 2,
   "metadata": {},
   "outputs": [
    {
     "name": "stdout",
     "output_type": "stream",
     "text": [
      "True\n",
      "False\n"
     ]
    }
   ],
   "source": [
    "# all : 자료가 모두 참일때만 True\n",
    "print(all([1,2,3]))\n",
    "print(all([1,2,0]))"
   ]
  },
  {
   "cell_type": "code",
   "execution_count": 5,
   "metadata": {},
   "outputs": [
    {
     "name": "stdout",
     "output_type": "stream",
     "text": [
      "True\n",
      "False\n",
      "False\n",
      "True\n"
     ]
    }
   ],
   "source": [
    "# any : 자료 중 하나라도 참이면 True\n",
    "print(any([0,0,1]))\n",
    "print(any([0,0,0]))\n",
    "print(any([0,\"\",\"\"]))\n",
    "print(any([0,\"\",\"2\"]))"
   ]
  },
  {
   "cell_type": "code",
   "execution_count": 7,
   "metadata": {},
   "outputs": [
    {
     "name": "stdout",
     "output_type": "stream",
     "text": [
      "a\n",
      "0\n"
     ]
    }
   ],
   "source": [
    "# chr : ASCII Code값을 문자로 출력\n",
    "print(chr(97))\n",
    "print(chr(48))"
   ]
  },
  {
   "cell_type": "code",
   "execution_count": 13,
   "metadata": {},
   "outputs": [
    {
     "name": "stdout",
     "output_type": "stream",
     "text": [
      "97\n",
      "48\n"
     ]
    }
   ],
   "source": [
    "# ord : 문자를 ASCII Code로 출력\n",
    "print(ord('a'))\n",
    "print(ord('0'))"
   ]
  },
  {
   "cell_type": "code",
   "execution_count": 16,
   "metadata": {},
   "outputs": [
    {
     "name": "stdout",
     "output_type": "stream",
     "text": [
      "0 a\n",
      "1 b\n",
      "2 c\n"
     ]
    }
   ],
   "source": [
    "# enumerate\n",
    "for i, name in enumerate(['a', 'b', 'c']):\n",
    "    print(i, name)"
   ]
  },
  {
   "cell_type": "code",
   "execution_count": 17,
   "metadata": {},
   "outputs": [
    {
     "data": {
      "text/plain": [
       "[(1, 'James'), (2, 'Martin'), (3, 'Cathy')]"
      ]
     },
     "execution_count": 17,
     "metadata": {},
     "output_type": "execute_result"
    }
   ],
   "source": [
    "# zip\n",
    "no = [1, 2, 3]\n",
    "name = ['James', 'Martin', 'Cathy']\n",
    "\n",
    "list(zip(no, name))"
   ]
  },
  {
   "cell_type": "code",
   "execution_count": 18,
   "metadata": {},
   "outputs": [
    {
     "name": "stdout",
     "output_type": "stream",
     "text": [
      "5\n",
      "7\n",
      "9\n"
     ]
    }
   ],
   "source": [
    "num1 = [1,2,3]\n",
    "num2 = [4,5,6]\n",
    "\n",
    "for num1, num2 in zip(num1, num2):\n",
    "    print(num1 + num2)"
   ]
  },
  {
   "cell_type": "code",
   "execution_count": null,
   "metadata": {},
   "outputs": [],
   "source": []
  }
 ],
 "metadata": {
  "kernelspec": {
   "display_name": "base",
   "language": "python",
   "name": "python3"
  },
  "language_info": {
   "codemirror_mode": {
    "name": "ipython",
    "version": 3
   },
   "file_extension": ".py",
   "mimetype": "text/x-python",
   "name": "python",
   "nbconvert_exporter": "python",
   "pygments_lexer": "ipython3",
   "version": "3.12.4"
  }
 },
 "nbformat": 4,
 "nbformat_minor": 2
}
