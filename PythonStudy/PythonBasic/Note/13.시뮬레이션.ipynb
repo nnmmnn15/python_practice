{
 "cells": [
  {
   "cell_type": "markdown",
   "metadata": {},
   "source": [
    "### 동전의 앞면 뒷면"
   ]
  },
  {
   "cell_type": "code",
   "execution_count": 1,
   "metadata": {},
   "outputs": [],
   "source": [
    "import random"
   ]
  },
  {
   "cell_type": "code",
   "execution_count": 3,
   "metadata": {},
   "outputs": [
    {
     "data": {
      "text/plain": [
       "1"
      ]
     },
     "execution_count": 3,
     "metadata": {},
     "output_type": "execute_result"
    }
   ],
   "source": [
    "random.randint(1, 10)"
   ]
  },
  {
   "cell_type": "code",
   "execution_count": 45,
   "metadata": {},
   "outputs": [
    {
     "name": "stdout",
     "output_type": "stream",
     "text": [
      "앞면\n"
     ]
    }
   ],
   "source": [
    "x = random.randint(1,2)\n",
    "if x == 1:\n",
    "    result = \"앞면\"\n",
    "else:\n",
    "    result = \"뒷면\"\n",
    "\n",
    "print(result)\n"
   ]
  },
  {
   "cell_type": "code",
   "execution_count": 69,
   "metadata": {},
   "outputs": [],
   "source": [
    "def coinF(n):\n",
    "    front = 0\n",
    "    back = 0\n",
    "    for i in range(0,n):\n",
    "        x = random.randint(1,2)\n",
    "        if x == 1:\n",
    "            front += 1\n",
    "        else:\n",
    "            back += 1\n",
    "    \n",
    "    print(f\"{n:>7}번 시도시 동전의 앞면은 {front:>6}번이고 동전의 뒷면은 {back:>6}번입니다.\")\n"
   ]
  },
  {
   "cell_type": "code",
   "execution_count": 70,
   "metadata": {},
   "outputs": [
    {
     "name": "stdout",
     "output_type": "stream",
     "text": [
      "     10번 시도시 동전의 앞면은      8번이고 동전의 뒷면은      2번입니다.\n",
      "    100번 시도시 동전의 앞면은     54번이고 동전의 뒷면은     46번입니다.\n",
      "   1000번 시도시 동전의 앞면은    505번이고 동전의 뒷면은    495번입니다.\n",
      "  10000번 시도시 동전의 앞면은   4911번이고 동전의 뒷면은   5089번입니다.\n",
      " 100000번 시도시 동전의 앞면은  49945번이고 동전의 뒷면은  50055번입니다.\n",
      "1000000번 시도시 동전의 앞면은 499806번이고 동전의 뒷면은 500194번입니다.\n"
     ]
    }
   ],
   "source": [
    "coinF(10)\n",
    "coinF(100)\n",
    "coinF(1000)\n",
    "coinF(10000)\n",
    "coinF(100000)\n",
    "coinF(1000000)"
   ]
  },
  {
   "cell_type": "code",
   "execution_count": 74,
   "metadata": {},
   "outputs": [],
   "source": [
    "def coinF2(n):\n",
    "    front = 0\n",
    "    back = 0\n",
    "    for i in range(0,n):\n",
    "        x = random.randint(1,2)\n",
    "        front, back = (front + 1, back) if x == 1 else (front, back + 1)\n",
    "    \n",
    "    print(f\"{n:>7}번 시도시 동전의 앞면은 {front:>6}번이고 동전의 뒷면은 {back:>6}번입니다.\")\n"
   ]
  },
  {
   "cell_type": "code",
   "execution_count": 75,
   "metadata": {},
   "outputs": [
    {
     "name": "stdout",
     "output_type": "stream",
     "text": [
      "     10번 시도시 동전의 앞면은      4번이고 동전의 뒷면은      6번입니다.\n",
      "    100번 시도시 동전의 앞면은     53번이고 동전의 뒷면은     47번입니다.\n",
      "   1000번 시도시 동전의 앞면은    493번이고 동전의 뒷면은    507번입니다.\n",
      "  10000번 시도시 동전의 앞면은   4892번이고 동전의 뒷면은   5108번입니다.\n",
      " 100000번 시도시 동전의 앞면은  49891번이고 동전의 뒷면은  50109번입니다.\n",
      "1000000번 시도시 동전의 앞면은 499744번이고 동전의 뒷면은 500256번입니다.\n"
     ]
    }
   ],
   "source": [
    "coinF2(10)\n",
    "coinF2(100)\n",
    "coinF2(1000)\n",
    "coinF2(10000)\n",
    "coinF2(100000)\n",
    "coinF2(1000000)"
   ]
  },
  {
   "cell_type": "code",
   "execution_count": 114,
   "metadata": {},
   "outputs": [],
   "source": [
    "def coinF3(n):\n",
    "    coinList = [random.randint(1,2) for i in range(n)]\n",
    "    front = [1 for coin in coinList if coin == 1]\n",
    "    back = [1 for coin in coinList if coin == 2]\n",
    "    \n",
    "    print(f\"{n:>7}번 시도시 동전의 앞면은 {sum(front):>6}번이고 동전의 뒷면은 {sum(back):>6}번입니다.\")\n"
   ]
  },
  {
   "cell_type": "code",
   "execution_count": 113,
   "metadata": {},
   "outputs": [
    {
     "name": "stdout",
     "output_type": "stream",
     "text": [
      "[2, 1, 1, 1, 2, 1, 2, 1, 2, 2]\n",
      "     10번 시도시 동전의 앞면은      5번이고 동전의 뒷면은      5번입니다.\n"
     ]
    }
   ],
   "source": [
    "coinF3(10)"
   ]
  },
  {
   "cell_type": "code",
   "execution_count": 104,
   "metadata": {},
   "outputs": [],
   "source": [
    "def dice(n):\n",
    "    diceCount = [0,0,0,0,0,0]\n",
    "    for _ in range(n):\n",
    "        diceNum = random.randint(1, 6)\n",
    "        diceCount[diceNum - 1] += 1\n",
    "    \n",
    "    print(f\"{n}번 시도시 ==>\")\n",
    "    for i in range(1,len(diceCount)+1):\n",
    "        print(f\"{i}은 {diceCount[i-1]}번 검출\", end=\"\")\n",
    "        if i % 3 == 0:\n",
    "            print()\n",
    "        else:\n",
    "            print(' | ', end=\"\")\n",
    "    print('-'*60)"
   ]
  },
  {
   "cell_type": "code",
   "execution_count": 105,
   "metadata": {},
   "outputs": [
    {
     "name": "stdout",
     "output_type": "stream",
     "text": [
      "10번 시도시 ==>\n",
      "1은 1번 검출 | 2은 1번 검출 | 3은 1번 검출\n",
      "4은 3번 검출 | 5은 1번 검출 | 6은 3번 검출\n",
      "------------------------------------------------------------\n",
      "100번 시도시 ==>\n",
      "1은 16번 검출 | 2은 15번 검출 | 3은 14번 검출\n",
      "4은 21번 검출 | 5은 13번 검출 | 6은 21번 검출\n",
      "------------------------------------------------------------\n",
      "1000번 시도시 ==>\n",
      "1은 160번 검출 | 2은 179번 검출 | 3은 154번 검출\n",
      "4은 157번 검출 | 5은 177번 검출 | 6은 173번 검출\n",
      "------------------------------------------------------------\n",
      "10000번 시도시 ==>\n",
      "1은 1668번 검출 | 2은 1623번 검출 | 3은 1696번 검출\n",
      "4은 1690번 검출 | 5은 1704번 검출 | 6은 1619번 검출\n",
      "------------------------------------------------------------\n",
      "100000번 시도시 ==>\n",
      "1은 16675번 검출 | 2은 16826번 검출 | 3은 16673번 검출\n",
      "4은 16512번 검출 | 5은 16627번 검출 | 6은 16687번 검출\n",
      "------------------------------------------------------------\n",
      "1000000번 시도시 ==>\n",
      "1은 166845번 검출 | 2은 167150번 검출 | 3은 166427번 검출\n",
      "4은 166911번 검출 | 5은 166027번 검출 | 6은 166640번 검출\n",
      "------------------------------------------------------------\n"
     ]
    }
   ],
   "source": [
    "dice(10)\n",
    "dice(100)\n",
    "dice(1000)\n",
    "dice(10000)\n",
    "dice(100000)\n",
    "dice(1000000)"
   ]
  },
  {
   "cell_type": "code",
   "execution_count": null,
   "metadata": {},
   "outputs": [],
   "source": []
  }
 ],
 "metadata": {
  "kernelspec": {
   "display_name": "base",
   "language": "python",
   "name": "python3"
  },
  "language_info": {
   "codemirror_mode": {
    "name": "ipython",
    "version": 3
   },
   "file_extension": ".py",
   "mimetype": "text/x-python",
   "name": "python",
   "nbconvert_exporter": "python",
   "pygments_lexer": "ipython3",
   "version": "3.12.4"
  }
 },
 "nbformat": 4,
 "nbformat_minor": 2
}
