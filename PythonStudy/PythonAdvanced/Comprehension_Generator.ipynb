{
 "cells": [
  {
   "cell_type": "markdown",
   "metadata": {},
   "source": [
    "# List Comprehension & Generator\n",
    "----\n",
    "## List Comprehension\n",
    ": List를 간결하고 효율적으로 만드는 구문"
   ]
  },
  {
   "cell_type": "markdown",
   "metadata": {},
   "source": [
    "---\n",
    "### List의 각 요소에 1을 더하여 새로운 List를 생성"
   ]
  },
  {
   "cell_type": "code",
   "execution_count": 3,
   "metadata": {},
   "outputs": [],
   "source": [
    "# Data\n",
    "numbers = [1,2,3,4,5]"
   ]
  },
  {
   "cell_type": "code",
   "execution_count": 5,
   "metadata": {},
   "outputs": [
    {
     "name": "stdout",
     "output_type": "stream",
     "text": [
      "[2, 3, 4, 5, 6]\n"
     ]
    }
   ],
   "source": [
    "# 기존 방법\n",
    "addOneResult = []\n",
    "for number in numbers:\n",
    "    processResult = number + 1\n",
    "    addOneResult.append(processResult)\n",
    "\n",
    "print(addOneResult)"
   ]
  },
  {
   "cell_type": "code",
   "execution_count": 6,
   "metadata": {},
   "outputs": [
    {
     "name": "stdout",
     "output_type": "stream",
     "text": [
      "[2, 3, 4, 5, 6]\n"
     ]
    }
   ],
   "source": [
    "# 조금 더 정리\n",
    "addOneResult = []\n",
    "for number in numbers:\n",
    "    addOneResult.append(number + 1)\n",
    "\n",
    "print(addOneResult)"
   ]
  },
  {
   "cell_type": "code",
   "execution_count": 7,
   "metadata": {},
   "outputs": [
    {
     "data": {
      "text/plain": [
       "[2, 3, 4, 5, 6]"
      ]
     },
     "execution_count": 7,
     "metadata": {},
     "output_type": "execute_result"
    }
   ],
   "source": [
    "# List Comprehension (내포 함수) (포함한다는 뜻)\n",
    "addOneResult = [num + 1 for num in numbers]\n",
    "addOneResult"
   ]
  },
  {
   "cell_type": "markdown",
   "metadata": {},
   "source": [
    "---\n",
    "### List의 각 요소에 제곱의 결과 리스트를 작성하여 출력"
   ]
  },
  {
   "cell_type": "code",
   "execution_count": 8,
   "metadata": {},
   "outputs": [],
   "source": [
    "import math"
   ]
  },
  {
   "cell_type": "code",
   "execution_count": 9,
   "metadata": {},
   "outputs": [
    {
     "name": "stdout",
     "output_type": "stream",
     "text": [
      "[1.0, 4.0, 9.0, 16.0, 25.0]\n"
     ]
    }
   ],
   "source": [
    "# 기존 방법\n",
    "squaredNumbers = []\n",
    "\n",
    "for num in numbers:\n",
    "    squaredNumbers.append(math.pow(num, 2))\n",
    "\n",
    "print(squaredNumbers)"
   ]
  },
  {
   "cell_type": "code",
   "execution_count": 11,
   "metadata": {},
   "outputs": [
    {
     "name": "stdout",
     "output_type": "stream",
     "text": [
      "[1.0, 4.0, 9.0, 16.0, 25.0]\n"
     ]
    }
   ],
   "source": [
    "# List Comprehension\n",
    "squaredNumbers = [math.pow(num, 2) for num in numbers]\n",
    "print(squaredNumbers)"
   ]
  },
  {
   "cell_type": "markdown",
   "metadata": {},
   "source": [
    "---\n",
    "### 2단 부터 9단까지의 구구단 결과값을 List로 생성"
   ]
  },
  {
   "cell_type": "code",
   "execution_count": 12,
   "metadata": {},
   "outputs": [
    {
     "name": "stdout",
     "output_type": "stream",
     "text": [
      "[2, 4, 6, 8, 10, 12, 14, 16, 18, 3, 6, 9, 12, 15, 18, 21, 24, 27, 4, 8, 12, 16, 20, 24, 28, 32, 36, 5, 10, 15, 20, 25, 30, 35, 40, 45, 6, 12, 18, 24, 30, 36, 42, 48, 54, 7, 14, 21, 28, 35, 42, 49, 56, 63, 8, 16, 24, 32, 40, 48, 56, 64, 72, 9, 18, 27, 36, 45, 54, 63, 72, 81]\n"
     ]
    }
   ],
   "source": [
    "guguDan = []\n",
    "\n",
    "for dan in range(2, 10):\n",
    "    for num in range(1, 10):\n",
    "        guguDan.append(dan * num)\n",
    "\n",
    "print(guguDan)"
   ]
  },
  {
   "cell_type": "code",
   "execution_count": 13,
   "metadata": {},
   "outputs": [
    {
     "name": "stdout",
     "output_type": "stream",
     "text": [
      "[2, 4, 6, 8, 10, 12, 14, 16, 18, 3, 6, 9, 12, 15, 18, 21, 24, 27, 4, 8, 12, 16, 20, 24, 28, 32, 36, 5, 10, 15, 20, 25, 30, 35, 40, 45, 6, 12, 18, 24, 30, 36, 42, 48, 54, 7, 14, 21, 28, 35, 42, 49, 56, 63, 8, 16, 24, 32, 40, 48, 56, 64, 72, 9, 18, 27, 36, 45, 54, 63, 72, 81]\n"
     ]
    }
   ],
   "source": [
    "guguDan = [dan * num for dan in range(2,10) for num in range(1,10)]\n",
    "\n",
    "print(guguDan)"
   ]
  },
  {
   "cell_type": "markdown",
   "metadata": {},
   "source": [
    "---\n",
    "### 구구단 결과를 List에 단별로 추가한후 출력하기"
   ]
  },
  {
   "cell_type": "code",
   "execution_count": 16,
   "metadata": {},
   "outputs": [
    {
     "name": "stdout",
     "output_type": "stream",
     "text": [
      "2단 : [2, 4, 6, 8, 10, 12, 14, 16, 18]\n",
      "3단 : [3, 6, 9, 12, 15, 18, 21, 24, 27]\n",
      "4단 : [4, 8, 12, 16, 20, 24, 28, 32, 36]\n",
      "5단 : [5, 10, 15, 20, 25, 30, 35, 40, 45]\n",
      "6단 : [6, 12, 18, 24, 30, 36, 42, 48, 54]\n",
      "7단 : [7, 14, 21, 28, 35, 42, 49, 56, 63]\n",
      "8단 : [8, 16, 24, 32, 40, 48, 56, 64, 72]\n",
      "9단 : [9, 18, 27, 36, 45, 54, 63, 72, 81]\n"
     ]
    }
   ],
   "source": [
    "guguDan = []\n",
    "\n",
    "for dan in range(2, 10):\n",
    "    guguDan.append([])\n",
    "    for num in range (1, 10):\n",
    "        guguDan[dan-2].append(dan * num)\n",
    "\n",
    "for i in range(len(guguDan)):\n",
    "    print(f\"{i+2}단 : {guguDan[i]}\")\n"
   ]
  },
  {
   "cell_type": "code",
   "execution_count": 18,
   "metadata": {},
   "outputs": [
    {
     "name": "stdout",
     "output_type": "stream",
     "text": [
      "[[2, 4, 6, 8, 10, 12, 14, 16, 18], [3, 6, 9, 12, 15, 18, 21, 24, 27], [4, 8, 12, 16, 20, 24, 28, 32, 36], [5, 10, 15, 20, 25, 30, 35, 40, 45], [6, 12, 18, 24, 30, 36, 42, 48, 54], [7, 14, 21, 28, 35, 42, 49, 56, 63], [8, 16, 24, 32, 40, 48, 56, 64, 72], [9, 18, 27, 36, 45, 54, 63, 72, 81]]\n",
      "2단 : [2, 4, 6, 8, 10, 12, 14, 16, 18]\n",
      "3단 : [3, 6, 9, 12, 15, 18, 21, 24, 27]\n",
      "4단 : [4, 8, 12, 16, 20, 24, 28, 32, 36]\n",
      "5단 : [5, 10, 15, 20, 25, 30, 35, 40, 45]\n",
      "6단 : [6, 12, 18, 24, 30, 36, 42, 48, 54]\n",
      "7단 : [7, 14, 21, 28, 35, 42, 49, 56, 63]\n",
      "8단 : [8, 16, 24, 32, 40, 48, 56, 64, 72]\n",
      "9단 : [9, 18, 27, 36, 45, 54, 63, 72, 81]\n"
     ]
    }
   ],
   "source": [
    "guguDan = [[dan * num for num in range(1,10)] for dan in range(2,10)]\n",
    "\n",
    "print(guguDan)\n",
    "\n",
    "for i in range(len(guguDan)):\n",
    "    print(f\"{i+2}단 : {guguDan[i]}\")"
   ]
  },
  {
   "cell_type": "markdown",
   "metadata": {},
   "source": [
    "---\n",
    "### 조건을 포함한 List Comprehension"
   ]
  },
  {
   "cell_type": "code",
   "execution_count": 19,
   "metadata": {},
   "outputs": [],
   "source": [
    "# Data\n",
    "numbers = [1,2,3,4,5,6,7,8,9,10]"
   ]
  },
  {
   "cell_type": "code",
   "execution_count": 20,
   "metadata": {},
   "outputs": [
    {
     "name": "stdout",
     "output_type": "stream",
     "text": [
      "[2, 4, 6, 8, 10]\n"
     ]
    }
   ],
   "source": [
    "# List에서 짝수만으로 구성된 List 만들기\n",
    "evenNumbers = []\n",
    "\n",
    "for num in numbers:\n",
    "    if num % 2 == 0:\n",
    "        evenNumbers.append(num)\n",
    "\n",
    "print(evenNumbers)"
   ]
  },
  {
   "cell_type": "code",
   "execution_count": 21,
   "metadata": {},
   "outputs": [
    {
     "name": "stdout",
     "output_type": "stream",
     "text": [
      "[2, 4, 6, 8, 10]\n"
     ]
    }
   ],
   "source": [
    "# List Comprehension\n",
    "evenNumbers = [num for num in numbers if num % 2 == 0]\n",
    "print(evenNumbers)"
   ]
  },
  {
   "cell_type": "markdown",
   "metadata": {},
   "source": [
    "---\n",
    "### 구구단에서 결과값이 짝수인 단과 곱해지는 수를 List로 생성하기"
   ]
  },
  {
   "cell_type": "code",
   "execution_count": 23,
   "metadata": {},
   "outputs": [
    {
     "name": "stdout",
     "output_type": "stream",
     "text": [
      "[(2, 1), (2, 2), (2, 3), (2, 4), (2, 5), (2, 6), (2, 7), (2, 8), (2, 9), (3, 2), (3, 4), (3, 6), (3, 8), (4, 1), (4, 2), (4, 3), (4, 4), (4, 5), (4, 6), (4, 7), (4, 8), (4, 9), (5, 2), (5, 4), (5, 6), (5, 8), (6, 1), (6, 2), (6, 3), (6, 4), (6, 5), (6, 6), (6, 7), (6, 8), (6, 9), (7, 2), (7, 4), (7, 6), (7, 8), (8, 1), (8, 2), (8, 3), (8, 4), (8, 5), (8, 6), (8, 7), (8, 8), (8, 9), (9, 2), (9, 4), (9, 6), (9, 8)]\n"
     ]
    }
   ],
   "source": [
    "guguDan = []\n",
    "for dan in range(2, 10):\n",
    "    for num in range(1,10):\n",
    "        if (dan * num) % 2 == 0:\n",
    "            guguDan.append((dan, num))\n",
    "\n",
    "print(guguDan)"
   ]
  },
  {
   "cell_type": "code",
   "execution_count": 38,
   "metadata": {},
   "outputs": [
    {
     "name": "stdout",
     "output_type": "stream",
     "text": [
      "[[(2, 1), (2, 2), (2, 3), (2, 4), (2, 5), (2, 6), (2, 7), (2, 8), (2, 9)], [(3, 2), (3, 4), (3, 6), (3, 8)], [(4, 1), (4, 2), (4, 3), (4, 4), (4, 5), (4, 6), (4, 7), (4, 8), (4, 9)], [(5, 2), (5, 4), (5, 6), (5, 8)], [(6, 1), (6, 2), (6, 3), (6, 4), (6, 5), (6, 6), (6, 7), (6, 8), (6, 9)], [(7, 2), (7, 4), (7, 6), (7, 8)], [(8, 1), (8, 2), (8, 3), (8, 4), (8, 5), (8, 6), (8, 7), (8, 8), (8, 9)], [(9, 2), (9, 4), (9, 6), (9, 8)]]\n",
      "2단 : [(2, 1), (2, 2), (2, 3), (2, 4), (2, 5), (2, 6), (2, 7), (2, 8), (2, 9)]\n",
      "3단 : [(3, 2), (3, 4), (3, 6), (3, 8)]\n",
      "4단 : [(4, 1), (4, 2), (4, 3), (4, 4), (4, 5), (4, 6), (4, 7), (4, 8), (4, 9)]\n",
      "5단 : [(5, 2), (5, 4), (5, 6), (5, 8)]\n",
      "6단 : [(6, 1), (6, 2), (6, 3), (6, 4), (6, 5), (6, 6), (6, 7), (6, 8), (6, 9)]\n",
      "7단 : [(7, 2), (7, 4), (7, 6), (7, 8)]\n",
      "8단 : [(8, 1), (8, 2), (8, 3), (8, 4), (8, 5), (8, 6), (8, 7), (8, 8), (8, 9)]\n",
      "9단 : [(9, 2), (9, 4), (9, 6), (9, 8)]\n",
      "8\n"
     ]
    }
   ],
   "source": [
    "guguDan = [[(dan, num) for num in range(1,10) if (dan * num) % 2 == 0] for dan in range(2,10)]\n",
    "\n",
    "print(guguDan)\n",
    "for dan in range(len(guguDan)):\n",
    "    print(f\"{dan + 2}단 : {guguDan[dan]}\")\n",
    "\n",
    "print(len(guguDan))\n",
    "# for dan in guguDan:\n",
    "#     print(dan)"
   ]
  },
  {
   "cell_type": "code",
   "execution_count": 27,
   "metadata": {},
   "outputs": [
    {
     "name": "stdout",
     "output_type": "stream",
     "text": [
      "[{'2단': [2, 4, 6, 8, 10, 12, 14, 16, 18]}, {'3단': [3, 6, 9, 12, 15, 18, 21, 24, 27]}, {'4단': [4, 8, 12, 16, 20, 24, 28, 32, 36]}, {'5단': [5, 10, 15, 20, 25, 30, 35, 40, 45]}, {'6단': [6, 12, 18, 24, 30, 36, 42, 48, 54]}, {'7단': [7, 14, 21, 28, 35, 42, 49, 56, 63]}, {'8단': [8, 16, 24, 32, 40, 48, 56, 64, 72]}, {'9단': [9, 18, 27, 36, 45, 54, 63, 72, 81]}]\n"
     ]
    }
   ],
   "source": [
    "guguDan = [{f'{dan}단' : [num * dan for num in range(1,10)]} for dan in range(2,10)]\n",
    "\n",
    "print(guguDan)"
   ]
  },
  {
   "cell_type": "code",
   "execution_count": 43,
   "metadata": {},
   "outputs": [
    {
     "name": "stdout",
     "output_type": "stream",
     "text": [
      "2 X 2 = 4\n",
      "2 X 4 = 8\n",
      "2 X 6 = 12\n",
      "2 X 8 = 16\n",
      "4 X 2 = 8\n",
      "4 X 4 = 16\n",
      "4 X 6 = 24\n",
      "4 X 8 = 32\n",
      "6 X 2 = 12\n",
      "6 X 4 = 24\n",
      "6 X 6 = 36\n",
      "6 X 8 = 48\n",
      "8 X 2 = 16\n",
      "8 X 4 = 32\n",
      "8 X 6 = 48\n",
      "8 X 8 = 64\n"
     ]
    }
   ],
   "source": [
    "# 연습 : List Comprehension으로 구구단에서 짝수단과 짝수 곱해지는 결과 값으로 List를 추가한후 출력하기\n",
    "guguDan = [(dan, num, dan * num) for dan in range(2,10,2) for num in range(2,10,2)]\n",
    "\n",
    "for dan, num, result in guguDan:\n",
    "    print(f\"{dan} X {num} = {result}\")"
   ]
  },
  {
   "cell_type": "code",
   "execution_count": 44,
   "metadata": {},
   "outputs": [
    {
     "name": "stdout",
     "output_type": "stream",
     "text": [
      "2 X 2 = 4\n",
      "2 X 4 = 8\n",
      "2 X 6 = 12\n",
      "2 X 8 = 16\n",
      "4 X 2 = 8\n",
      "4 X 4 = 16\n",
      "4 X 6 = 24\n",
      "4 X 8 = 32\n",
      "6 X 2 = 12\n",
      "6 X 4 = 24\n",
      "6 X 6 = 36\n",
      "6 X 8 = 48\n",
      "8 X 2 = 16\n",
      "8 X 4 = 32\n",
      "8 X 6 = 48\n",
      "8 X 8 = 64\n"
     ]
    }
   ],
   "source": [
    "# 연습 : List Comprehension으로 구구단에서 짝수단과 짝수 곱해지는 결과 값으로 List를 추가한후 출력하기\n",
    "guguDan = [(dan, num, dan * num) for dan in range(1,10) if dan % 2 == 0 for num in range(2,10) if num % 2 == 0]\n",
    "\n",
    "for dan, num, result in guguDan:\n",
    "    print(f\"{dan} X {num} = {result}\")"
   ]
  },
  {
   "cell_type": "markdown",
   "metadata": {},
   "source": [
    "---\n",
    "### 중첩된 리스트 컴프리핸션(2차원 리스트)"
   ]
  },
  {
   "cell_type": "code",
   "execution_count": 47,
   "metadata": {},
   "outputs": [
    {
     "name": "stdout",
     "output_type": "stream",
     "text": [
      "2차원 행렬 : [[1, 2, 3], [4, 5, 6], [7, 8, 9]]\n",
      "1차원 행렬 : [1, 2, 3, 4, 5, 6, 7, 8, 9]\n"
     ]
    }
   ],
   "source": [
    "matrix = [[1,2,3], [4,5,6],[7,8,9]]\n",
    "\n",
    "print(\"2차원 행렬 :\", matrix)\n",
    "\n",
    "flattened = [x for row in matrix for x in row]\n",
    "\n",
    "print(\"1차원 행렬 :\", flattened)"
   ]
  },
  {
   "cell_type": "markdown",
   "metadata": {},
   "source": [
    "---\n",
    "### 리스트에서 중복 제거\n",
    ": 중복된 요소를 제외한 리스트를 만드는 방법"
   ]
  },
  {
   "cell_type": "code",
   "execution_count": 48,
   "metadata": {},
   "outputs": [],
   "source": [
    "# Data\n",
    "numbers = [1,2,2,3,4,4,5,6,6]"
   ]
  },
  {
   "cell_type": "code",
   "execution_count": 51,
   "metadata": {},
   "outputs": [
    {
     "name": "stdout",
     "output_type": "stream",
     "text": [
      "[1, 2, 3, 4, 5, 6]\n"
     ]
    }
   ],
   "source": [
    "# Method 1\n",
    "unique_numbers = []\n",
    "for num in numbers:\n",
    "    if num not in unique_numbers:\n",
    "        unique_numbers.append(num)\n",
    "\n",
    "print(unique_numbers)"
   ]
  },
  {
   "cell_type": "code",
   "execution_count": 53,
   "metadata": {},
   "outputs": [
    {
     "name": "stdout",
     "output_type": "stream",
     "text": [
      "0 1\n",
      "1 2\n",
      "2 2\n",
      "3 3\n",
      "4 4\n",
      "5 4\n",
      "6 5\n",
      "7 6\n",
      "8 6\n",
      "[1, 2, 3, 4, 5, 6]\n"
     ]
    }
   ],
   "source": [
    "# Method 2 정렬된 데이터 일때 훨씬 빠름\n",
    "unique_numbers = []\n",
    "for i, x in enumerate(numbers):\n",
    "    print(i, x)\n",
    "    if x not in numbers[:i]:\n",
    "        unique_numbers.append(x)\n",
    "\n",
    "print(unique_numbers)"
   ]
  },
  {
   "cell_type": "code",
   "execution_count": 54,
   "metadata": {},
   "outputs": [
    {
     "name": "stdout",
     "output_type": "stream",
     "text": [
      "[1, 2, 3, 4, 5, 6]\n"
     ]
    }
   ],
   "source": [
    "unique_numbers = [x for i, x in enumerate(numbers) if x not in numbers[:i]]\n",
    "print(unique_numbers)"
   ]
  },
  {
   "cell_type": "code",
   "execution_count": 56,
   "metadata": {},
   "outputs": [
    {
     "name": "stdout",
     "output_type": "stream",
     "text": [
      "{1, 2, 3, 4, 5, 6}\n",
      "[1, 2, 3, 4, 5, 6]\n"
     ]
    }
   ],
   "source": [
    "# Method 3\n",
    "unique_set_numbers = {x for x in numbers}\n",
    "print(unique_set_numbers)\n",
    "\n",
    "unique_numbers = [x for x in unique_set_numbers]\n",
    "print(unique_numbers)"
   ]
  },
  {
   "cell_type": "code",
   "execution_count": 57,
   "metadata": {},
   "outputs": [
    {
     "name": "stdout",
     "output_type": "stream",
     "text": [
      "[1, 2, 3, 4, 5, 6]\n"
     ]
    }
   ],
   "source": [
    "# Method 4\n",
    "unique_numbers = [x for x in {x for x in numbers}]\n",
    "print(unique_numbers)"
   ]
  },
  {
   "cell_type": "code",
   "execution_count": 58,
   "metadata": {},
   "outputs": [
    {
     "name": "stdout",
     "output_type": "stream",
     "text": [
      "[1, 2, 3, 4, 5, 6]\n"
     ]
    }
   ],
   "source": [
    "# Method 5\n",
    "unique_numbers = [x for x in set(numbers)]\n",
    "print(unique_numbers)"
   ]
  },
  {
   "cell_type": "markdown",
   "metadata": {},
   "source": [
    "---\n",
    "# Generator(제너레이터) 표현식\n",
    ": 제너레이터 표현식은 리스트 컴프리핸션과 비슷한 문법을 사용하지만, 메모리에 모든 요소를 한꺼번에 저장하지 않고 필요한 시점에 값을 하나씩 생성하는 방식이다.    \n",
    "()로 감싸서 표현하며, 대규모 데이터 처리시 효율적이다."
   ]
  },
  {
   "cell_type": "code",
   "execution_count": 62,
   "metadata": {},
   "outputs": [
    {
     "name": "stdout",
     "output_type": "stream",
     "text": [
      "<generator object <genexpr> at 0x113136440>\n",
      "[0, 1, 2, 3, 4]\n",
      "set()\n"
     ]
    }
   ],
   "source": [
    "# 0~4까지의 수를 Generator로 만들어 List로 출력하기\n",
    "numbers = (x for x in range(5))\n",
    "print(numbers)\n",
    "print(list(numbers))"
   ]
  },
  {
   "cell_type": "code",
   "execution_count": 70,
   "metadata": {},
   "outputs": [
    {
     "name": "stdout",
     "output_type": "stream",
     "text": [
      "<generator object <genexpr> at 0x113217b90>\n",
      "{16, 18, 12, 14}\n"
     ]
    }
   ],
   "source": [
    "# 0~19까지의 수중 짝수 이면서 10보다 큰 수만 Generator로 생성하여 List로 출력하기\n",
    "filterd_gen = (x for x in range(20) if x % 2 == 0 and x > 10)\n",
    "print(filterd_gen)\n",
    "print(set(filterd_gen))"
   ]
  },
  {
   "cell_type": "markdown",
   "metadata": {},
   "source": [
    "---\n",
    "### Tuple Comprehension"
   ]
  },
  {
   "cell_type": "code",
   "execution_count": 73,
   "metadata": {},
   "outputs": [
    {
     "name": "stdout",
     "output_type": "stream",
     "text": [
      "(0, 1, 4, 9, 16)\n",
      "<generator object <genexpr> at 0x113215be0>\n",
      "(0, 1, 4, 9, 16)\n"
     ]
    }
   ],
   "source": [
    "squaredNumbers = tuple(x**2 for x in range(5))\n",
    "print(squaredNumbers)\n",
    "\n",
    "squaredNumbers = (x**2 for x in range(5))\n",
    "print(squaredNumbers)\n",
    "print(tuple(squaredNumbers))"
   ]
  },
  {
   "cell_type": "markdown",
   "metadata": {},
   "source": [
    "---\n",
    "### 빈도수"
   ]
  },
  {
   "cell_type": "code",
   "execution_count": 76,
   "metadata": {},
   "outputs": [
    {
     "name": "stdout",
     "output_type": "stream",
     "text": [
      "Counter({1: 3, 2: 2, 3: 2, 4: 1, 5: 1})\n",
      "[(1, 3), (2, 2)]\n",
      "[(1, 3)]\n"
     ]
    }
   ],
   "source": [
    "from collections import Counter\n",
    "\n",
    "my_list = [1,2,3,2,1,1,4,5,3]\n",
    "print(Counter(my_list))\n",
    "print(Counter(my_list).most_common(2))\n",
    "print(Counter(my_list).most_common(1))"
   ]
  },
  {
   "cell_type": "code",
   "execution_count": null,
   "metadata": {},
   "outputs": [],
   "source": []
  }
 ],
 "metadata": {
  "kernelspec": {
   "display_name": "base",
   "language": "python",
   "name": "python3"
  },
  "language_info": {
   "codemirror_mode": {
    "name": "ipython",
    "version": 3
   },
   "file_extension": ".py",
   "mimetype": "text/x-python",
   "name": "python",
   "nbconvert_exporter": "python",
   "pygments_lexer": "ipython3",
   "version": "3.12.4"
  }
 },
 "nbformat": 4,
 "nbformat_minor": 2
}
